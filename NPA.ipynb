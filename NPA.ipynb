{
  "nbformat": 4,
  "nbformat_minor": 0,
  "metadata": {
    "colab": {
      "provenance": [],
      "authorship_tag": "ABX9TyP6ClW9RB1qrbNjX64c9K0C",
      "include_colab_link": true
    },
    "kernelspec": {
      "name": "python3",
      "display_name": "Python 3"
    },
    "language_info": {
      "name": "python"
    }
  },
  "cells": [
    {
      "cell_type": "markdown",
      "metadata": {
        "id": "view-in-github",
        "colab_type": "text"
      },
      "source": [
        "<a href=\"https://colab.research.google.com/github/adarshtomar333/NPS/blob/main/NPA.ipynb\" target=\"_parent\"><img src=\"https://colab.research.google.com/assets/colab-badge.svg\" alt=\"Open In Colab\"/></a>"
      ]
    },
    {
      "cell_type": "code",
      "execution_count": 1,
      "metadata": {
        "colab": {
          "base_uri": "https://localhost:8080/"
        },
        "id": "VxxNVhwfUKbG",
        "outputId": "51cc6510-b305-4943-ac38-5c5f93083085"
      },
      "outputs": [
        {
          "output_type": "stream",
          "name": "stdout",
          "text": [
            "Collecting scapy\n",
            "  Downloading scapy-2.6.1-py3-none-any.whl.metadata (5.6 kB)\n",
            "Requirement already satisfied: matplotlib in /usr/local/lib/python3.10/dist-packages (3.8.0)\n",
            "Requirement already satisfied: contourpy>=1.0.1 in /usr/local/lib/python3.10/dist-packages (from matplotlib) (1.3.0)\n",
            "Requirement already satisfied: cycler>=0.10 in /usr/local/lib/python3.10/dist-packages (from matplotlib) (0.12.1)\n",
            "Requirement already satisfied: fonttools>=4.22.0 in /usr/local/lib/python3.10/dist-packages (from matplotlib) (4.54.1)\n",
            "Requirement already satisfied: kiwisolver>=1.0.1 in /usr/local/lib/python3.10/dist-packages (from matplotlib) (1.4.7)\n",
            "Requirement already satisfied: numpy<2,>=1.21 in /usr/local/lib/python3.10/dist-packages (from matplotlib) (1.26.4)\n",
            "Requirement already satisfied: packaging>=20.0 in /usr/local/lib/python3.10/dist-packages (from matplotlib) (24.1)\n",
            "Requirement already satisfied: pillow>=6.2.0 in /usr/local/lib/python3.10/dist-packages (from matplotlib) (10.4.0)\n",
            "Requirement already satisfied: pyparsing>=2.3.1 in /usr/local/lib/python3.10/dist-packages (from matplotlib) (3.2.0)\n",
            "Requirement already satisfied: python-dateutil>=2.7 in /usr/local/lib/python3.10/dist-packages (from matplotlib) (2.8.2)\n",
            "Requirement already satisfied: six>=1.5 in /usr/local/lib/python3.10/dist-packages (from python-dateutil>=2.7->matplotlib) (1.16.0)\n",
            "Downloading scapy-2.6.1-py3-none-any.whl (2.4 MB)\n",
            "\u001b[2K   \u001b[90m━━━━━━━━━━━━━━━━━━━━━━━━━━━━━━━━━━━━━━━━\u001b[0m \u001b[32m2.4/2.4 MB\u001b[0m \u001b[31m14.0 MB/s\u001b[0m eta \u001b[36m0:00:00\u001b[0m\n",
            "\u001b[?25hInstalling collected packages: scapy\n",
            "Successfully installed scapy-2.6.1\n"
          ]
        }
      ],
      "source": [
        "pip install scapy matplotlib\n"
      ]
    },
    {
      "cell_type": "code",
      "source": [
        "from scapy.all import sniff, IP, TCP, UDP, ICMP\n",
        "import matplotlib.pyplot as plt\n",
        "from collections import defaultdict\n",
        "import datetime\n",
        "\n",
        "# Initialize counters for each protocol\n",
        "protocol_count = defaultdict(int)\n",
        "\n",
        "# Packet data for visualization\n",
        "traffic_data = {\n",
        "    \"timestamp\": [],\n",
        "    \"TCP\": [],\n",
        "    \"UDP\": [],\n",
        "    \"ICMP\": []\n",
        "}\n",
        "\n",
        "# Callback function to handle each packet\n",
        "def process_packet(packet):\n",
        "    # Process IP packets\n",
        "    if IP in packet:\n",
        "        ip_src = packet[IP].src\n",
        "        ip_dst = packet[IP].dst\n",
        "        protocol = packet[IP].proto\n",
        "\n",
        "        # Determine the protocol and increment counters\n",
        "        if TCP in packet:\n",
        "            protocol_count[\"TCP\"] += 1\n",
        "            traffic_data[\"TCP\"].append(protocol_count[\"TCP\"])\n",
        "            print(f\"TCP Packet: {ip_src} -> {ip_dst}, Src Port: {packet[TCP].sport}, Dst Port: {packet[TCP].dport}\")\n",
        "\n",
        "        elif UDP in packet:\n",
        "            protocol_count[\"UDP\"] += 1\n",
        "            traffic_data[\"UDP\"].append(protocol_count[\"UDP\"])\n",
        "            print(f\"UDP Packet: {ip_src} -> {ip_dst}, Src Port: {packet[UDP].sport}, Dst Port: {packet[UDP].dport}\")\n",
        "\n",
        "        elif ICMP in packet:\n",
        "            protocol_count[\"ICMP\"] += 1\n",
        "            traffic_data[\"ICMP\"].append(protocol_count[\"ICMP\"])\n",
        "            print(f\"ICMP Packet: {ip_src} -> {ip_dst}, Type: {packet[ICMP].type}\")\n",
        "\n",
        "        # Track timestamp for real-time monitoring\n",
        "        traffic_data[\"timestamp\"].append(datetime.datetime.now().strftime(\"%H:%M:%S\"))\n",
        "\n",
        "# Start packet sniffing\n",
        "print(\"Starting packet capture... Press Ctrl+C to stop.\")\n",
        "sniff(prn=process_packet, filter=\"ip\", store=0, count=50)  # Modify count for more/less packets\n",
        "\n",
        "# Visualize packet count per protocol over time\n",
        "def visualize_traffic():\n",
        "    plt.figure(figsize=(10, 6))\n",
        "    plt.plot(traffic_data[\"timestamp\"], traffic_data[\"TCP\"], label=\"TCP\", color=\"blue\", marker='o')\n",
        "    plt.plot(traffic_data[\"timestamp\"], traffic_data[\"UDP\"], label=\"UDP\", color=\"green\", marker='o')\n",
        "    plt.plot(traffic_data[\"timestamp\"], traffic_data[\"ICMP\"], label=\"ICMP\", color=\"red\", marker='o')\n",
        "    plt.xlabel(\"Time\")\n",
        "    plt.ylabel(\"Packet Count\")\n",
        "    plt.title(\"Network Traffic Analysis\")\n",
        "    plt.xticks(rotation=45)\n",
        "    plt.legend()\n",
        "    plt.tight_layout()\n",
        "    plt.show()\n",
        "\n",
        "# Visualize captured traffic\n",
        "visualize_traffic()\n"
      ],
      "metadata": {
        "id": "hiIcfSydVK4Y"
      },
      "execution_count": null,
      "outputs": []
    }
  ]
}